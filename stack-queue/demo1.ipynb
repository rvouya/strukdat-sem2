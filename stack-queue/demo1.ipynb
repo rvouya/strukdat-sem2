{
 "cells": [
  {
   "cell_type": "markdown",
   "metadata": {},
   "source": [
    "<h1>STACK<h1>"
   ]
  },
  {
   "cell_type": "markdown",
   "metadata": {},
   "source": [
    "1. Stack dengan operasi push-pop manual\n",
    "2. Stack dengan operasi push-pop berdasarkan skenario (3 +6 +5 -) dst\n",
    "3. Cek Balance Parantheses https://www.spoj.com/problems/PROG0455/\n",
    "4. Cari minimal value dari stack https://www.spoj.com/problems/MINSTACK/\n",
    "5. Polish expressions dari https://www.spoj.com/problems/ONP/"
   ]
  },
  {
   "cell_type": "code",
   "execution_count": 3,
   "metadata": {},
   "outputs": [
    {
     "name": "stdout",
     "output_type": "stream",
     "text": [
      "[]\n"
     ]
    }
   ],
   "source": [
    "stack = []\n",
    "stack.append(6)\n",
    "stack.pop()\n",
    "\n",
    "print(stack)"
   ]
  },
  {
   "cell_type": "code",
   "execution_count": 3,
   "metadata": {},
   "outputs": [
    {
     "ename": "ValueError",
     "evalue": "invalid literal for int() with base 10: ''",
     "output_type": "error",
     "traceback": [
      "\u001b[1;31m---------------------------------------------------------------------------\u001b[0m",
      "\u001b[1;31mValueError\u001b[0m                                Traceback (most recent call last)",
      "Cell \u001b[1;32mIn[3], line 2\u001b[0m\n\u001b[0;32m      1\u001b[0m stack \u001b[38;5;241m=\u001b[39m []\n\u001b[1;32m----> 2\u001b[0m num_stack \u001b[38;5;241m=\u001b[39m \u001b[38;5;28;43mint\u001b[39;49m\u001b[43m(\u001b[49m\u001b[38;5;28;43minput\u001b[39;49m\u001b[43m(\u001b[49m\u001b[43m)\u001b[49m\u001b[43m)\u001b[49m\n\u001b[0;32m      3\u001b[0m \u001b[38;5;28;01mfor\u001b[39;00m i \u001b[38;5;129;01min\u001b[39;00m \u001b[38;5;28mrange\u001b[39m(num_stack):\n\u001b[0;32m      4\u001b[0m     x \u001b[38;5;241m=\u001b[39m \u001b[38;5;28mstr\u001b[39m(\u001b[38;5;28minput\u001b[39m())\n",
      "\u001b[1;31mValueError\u001b[0m: invalid literal for int() with base 10: ''"
     ]
    }
   ],
   "source": [
    "stack = []\n",
    "num_stack = int(input())\n",
    "for i in range(num_stack):\n",
    "    x = str(input())\n",
    "    if x[0] == \"+\":\n",
    "        stack.append(x[1:])\n",
    "        print(len(stack))\n",
    "    elif x[0] == \"-\" and stack:\n",
    "        print(stack[-1])\n",
    "        stack.pop()\n",
    "        print(len(stack))"
   ]
  },
  {
   "cell_type": "code",
   "execution_count": 6,
   "metadata": {},
   "outputs": [
    {
     "name": "stdout",
     "output_type": "stream",
     "text": [
      "Invalid\n"
     ]
    }
   ],
   "source": [
    "inputan = input()\n",
    "stack = []\n",
    "\n",
    "pasangan = {\n",
    "    \"(\" : \")\",\n",
    "    \"{\" :\"}\",\n",
    "    \"[\": \"]\"\n",
    "}\n",
    "\n",
    "for i in inputan:\n",
    "    if i in pasangan:\n",
    "        stack.append(i)\n",
    "    else:\n",
    "        if stack and pasangan[stack[-1]] == i:\n",
    "            stack.pop()\n",
    "        else:\n",
    "            continue\n",
    "\n",
    "if not stack:\n",
    "    print(\"Valid\")\n",
    "else:\n",
    "    print('Invalid')"
   ]
  },
  {
   "cell_type": "code",
   "execution_count": 15,
   "metadata": {},
   "outputs": [
    {
     "name": "stdout",
     "output_type": "stream",
     "text": [
      "2\n"
     ]
    }
   ],
   "source": [
    "stack = []\n",
    "min_stack = []\n",
    "\n",
    "x = int(input())\n",
    "for _ in range(x):\n",
    "    y = input().split()\n",
    "\n",
    "    if y[0] == \"PUSH\":\n",
    "        value = int(y[1])\n",
    "        stack.append(value)\n",
    "        if not min_stack or value <= min_stack[-1]:\n",
    "            min_stack.append(value)\n",
    "\n",
    "    elif y[0] == \"POP\":\n",
    "        if stack:\n",
    "            if stack[-1] == min_stack[-1]:\n",
    "                min_stack.pop()\n",
    "            stack.pop()\n",
    "        else:\n",
    "            print(\"EMPTY\")\n",
    "\n",
    "    elif y[0] == \"MIN\":\n",
    "        if min_stack:\n",
    "            print(min_stack[-1])\n",
    "        else:\n",
    "            print(\"EMPTY\")"
   ]
  },
  {
   "cell_type": "code",
   "execution_count": 11,
   "metadata": {},
   "outputs": [
    {
     "name": "stdout",
     "output_type": "stream",
     "text": [
      "abc*+\n",
      "ab+zx+*\n",
      "at+bac++cd+^*\n"
     ]
    }
   ],
   "source": [
    "def prioritas(operator):\n",
    "    if operator == '^':\n",
    "        return 4\n",
    "    elif operator in ('*/'):\n",
    "        return 3\n",
    "    elif operator in ('+-'):\n",
    "        return 2\n",
    "    elif operator == '(':\n",
    "        return 1\n",
    "    return 0\n",
    "\n",
    "jumlah_operasi = int(input())\n",
    "\n",
    "for _ in range(jumlah_operasi):\n",
    "    operasi = input()\n",
    "    output = []\n",
    "    stack = []\n",
    "\n",
    "    for char in operasi:\n",
    "        if char == '(':  \n",
    "            stack.append(char)\n",
    "        elif char == ')':  \n",
    "            while stack and stack[-1] != '(':\n",
    "                output.append(stack.pop())\n",
    "            stack.pop()\n",
    "        elif char in \"+-*/^\":  \n",
    "            while stack and prioritas(stack[-1]) >= prioritas(char):\n",
    "                output.append(stack.pop())\n",
    "            stack.append(char)\n",
    "        else:  \n",
    "            output.append(char)\n",
    "\n",
    "    while stack:\n",
    "        output.append(stack.pop())\n",
    "\n",
    "    print(\"\".join(output))"
   ]
  },
  {
   "cell_type": "markdown",
   "metadata": {},
   "source": [
    "<h1>QUEUE<h1>"
   ]
  },
  {
   "cell_type": "code",
   "execution_count": 10,
   "metadata": {},
   "outputs": [
    {
     "name": "stdout",
     "output_type": "stream",
     "text": [
      "['5']\n",
      "['5', '6']\n",
      "['5', '6', '1']\n",
      "['5', '6']\n",
      "['5']\n"
     ]
    }
   ],
   "source": [
    "# queue = []\n",
    "# z = int(input())\n",
    "# for _ in range(z):\n",
    "#     x = input().split()\n",
    "#     if len(x) == 2:\n",
    "#         queue.append(x[1])\n",
    "#     elif queue:\n",
    "#         queue.pop(0)\n",
    "#     else:\n",
    "#         print(\"Queue Kosong\")\n",
    "#     print(queue)\n",
    "\n",
    "stack = []\n",
    "z = int(input())\n",
    "for _ in range(z):\n",
    "    x = input().split()\n",
    "    if len(x) == 2:\n",
    "        stack.append(x[1])\n",
    "    elif stack:\n",
    "        stack.pop()\n",
    "    else:\n",
    "        print(\"Stack Kosong\")\n",
    "    print(stack)"
   ]
  },
  {
   "cell_type": "code",
   "execution_count": null,
   "metadata": {},
   "outputs": [],
   "source": [
    "while True:\n",
    "    try:\n",
    "        text = input()\n",
    "        result = []\n",
    "        pos = 0\n",
    "\n",
    "        for i in text:\n",
    "            if i == '[':\n",
    "                pos = 0\n",
    "            elif i == ']':\n",
    "                pos = len(result)\n",
    "            else:\n",
    "                result.insert(pos, i)\n",
    "                pos += 1  \n",
    "\n",
    "        print(\"\".join(result))\n",
    "\n",
    "    except KeyboardInterrupt:\n",
    "        break"
   ]
  },
  {
   "cell_type": "code",
   "execution_count": null,
   "metadata": {},
   "outputs": [
    {
     "name": "stdout",
     "output_type": "stream",
     "text": [
      "queue =  z = int(input()) for _ in range(z):     x = input().split()     if len(x) == 2:         queue.append(x[1])     elif queue:         queue.pop(0)     else:         print(\"Queue Kosong\")     print(queue)  stack = [] z = int(input()) for _ in range(z):     x = input().split()     if len(x) == 2:         stack.append(x[1])     elif stack:         stack.pop()     else:         print(\"Stack Kosong\")     print(stack)\n",
      "BeijuThis_is_a__text\n",
      "[][][]Happy_Birthday_to_Tsinghua_University\n",
      "\n",
      "\n",
      "\n",
      "\n",
      "\n",
      "\n",
      "\n",
      "\n",
      "\n",
      "\n",
      "\n",
      "\n",
      "\n",
      "\n",
      "\n",
      "\n",
      "\n",
      "\n"
     ]
    }
   ],
   "source": [
    "while True:\n",
    "    try:\n",
    "        text = input()\n",
    "        kataDiluarKurung = []\n",
    "        kataDidalamKurung = []\n",
    "        kata_awal = text.find(\"[\")\n",
    "        kata_akhir = text.find(\"]\")\n",
    "\n",
    "        for idx, i in enumerate(text):\n",
    "            if not (kata_awal <= idx <= kata_akhir):\n",
    "                kataDiluarKurung.append(i)\n",
    "            elif kata_awal < idx < kata_akhir:\n",
    "                kataDidalamKurung.append(i)\n",
    "\n",
    "        print(\"\".join(kataDidalamKurung) + \"\".join(kataDiluarKurung))\n",
    "\n",
    "    except KeyboardInterrupt:\n",
    "        break"
   ]
  }
 ],
 "metadata": {
  "kernelspec": {
   "display_name": "Python 3",
   "language": "python",
   "name": "python3"
  },
  "language_info": {
   "codemirror_mode": {
    "name": "ipython",
    "version": 3
   },
   "file_extension": ".py",
   "mimetype": "text/x-python",
   "name": "python",
   "nbconvert_exporter": "python",
   "pygments_lexer": "ipython3",
   "version": "3.12.3"
  }
 },
 "nbformat": 4,
 "nbformat_minor": 2
}
